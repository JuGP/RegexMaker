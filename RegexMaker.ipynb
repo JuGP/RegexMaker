{
  "nbformat": 4,
  "nbformat_minor": 0,
  "metadata": {
    "colab": {
      "name": "RegexMaker.ipynb",
      "provenance": [],
      "collapsed_sections": [],
      "authorship_tag": "ABX9TyN2TltLV/bOcIHUBZYzaT7e",
      "include_colab_link": true
    },
    "kernelspec": {
      "name": "python3",
      "display_name": "Python 3"
    }
  },
  "cells": [
    {
      "cell_type": "markdown",
      "metadata": {
        "id": "view-in-github",
        "colab_type": "text"
      },
      "source": [
        "<a href=\"https://colab.research.google.com/github/JuGP/RegexMaker/blob/master/RegexMaker.ipynb\" target=\"_parent\"><img src=\"https://colab.research.google.com/assets/colab-badge.svg\" alt=\"Open In Colab\"/></a>"
      ]
    },
    {
      "cell_type": "markdown",
      "metadata": {
        "id": "E9quQDnMHdgt",
        "colab_type": "text"
      },
      "source": [
        "#Packages"
      ]
    },
    {
      "cell_type": "code",
      "metadata": {
        "id": "BTqV-FREUfa2",
        "colab_type": "code",
        "colab": {}
      },
      "source": [
        "import nltk\n",
        "import re\n",
        "import string\n",
        "from nltk.corpus import stopwords\n",
        "from nltk.tokenize import word_tokenize\n",
        "from nltk.stem import RSLPStemmer\n",
        "\n",
        "nltk.download(\"stopwords\", quiet=True)\n",
        "nltk.download(\"punkt\", quiet=True)\n",
        "nltk.download('rslp', quiet=True)"
      ],
      "execution_count": null,
      "outputs": []
    },
    {
      "cell_type": "markdown",
      "metadata": {
        "id": "jp-wDbz-HiZU",
        "colab_type": "text"
      },
      "source": [
        "#Constants"
      ]
    },
    {
      "cell_type": "code",
      "metadata": {
        "id": "taQ18BDDU8EC",
        "colab_type": "code",
        "colab": {}
      },
      "source": [
        "INPUT = \"Opção 1 - Criando as regexs dinâmicamente!\"\n",
        "\n",
        "OPTIONAL_REGEX = \"({})?\"\n",
        "MULTIPLE_WHITE_SPACE_REGEX = \"\\s*\""
      ],
      "execution_count": 2,
      "outputs": []
    },
    {
      "cell_type": "markdown",
      "metadata": {
        "id": "UEpZ64BRHx4c",
        "colab_type": "text"
      },
      "source": [
        "#Plural reduction"
      ]
    },
    {
      "cell_type": "code",
      "metadata": {
        "id": "MSUjtuPIfx5P",
        "colab_type": "code",
        "colab": {}
      },
      "source": [
        "def plural_reduction(token):\n",
        "    token = re.sub(r\"(ns)$\", \"(ns|m)\", token)\n",
        "    token = re.sub(r\"(ões)$\", \"(ões|ão)\", token)\n",
        "    token = re.sub(r\"(ães)$\", \"(ães|ão)\", token)\n",
        "    token = re.sub(r\"(ais)$\", \"a(is|l)\", token)\n",
        "    token = re.sub(r\"(éis)$\", \"é(is|l)\", token)\n",
        "    token = re.sub(r\"(óis)$\", \"ó(is|l)\", token)\n",
        "    token = re.sub(r\"(is)$\", \"i(s|l)\", token)\n",
        "    token = re.sub(r\"(les)$\", \"l(es)?\", token)\n",
        "    token = re.sub(r\"(res)$\", \"r(es)?\", token)\n",
        "    token = re.sub(r\"(s)$\", \"(s)?\", token)\n",
        "    return token"
      ],
      "execution_count": 3,
      "outputs": []
    },
    {
      "cell_type": "markdown",
      "metadata": {
        "id": "Jp5LtJ8dH3lS",
        "colab_type": "text"
      },
      "source": [
        "#Accentuation"
      ]
    },
    {
      "cell_type": "code",
      "metadata": {
        "id": "ywjD81h-VKsr",
        "colab_type": "code",
        "colab": {}
      },
      "source": [
        "def accentuation(token):\n",
        "    token = re.sub(r\"ç\", \"[cç]\", token)\n",
        "    token = re.sub(r\"[âãáà]\", \"[aâãáà]\", token)\n",
        "    token = re.sub(r\"[êéè]\", \"[eêéè]\", token) \n",
        "    token = re.sub(r\"[îíì]\", \"[iîíì]\", token)\n",
        "    token = re.sub(r\"[ôõóò]\", \"[oôõóò]\", token)\n",
        "    token = re.sub(r\"[ûúù]\", \"[uûúù]\", token)\n",
        "    return token"
      ],
      "execution_count": 4,
      "outputs": []
    },
    {
      "cell_type": "markdown",
      "metadata": {
        "id": "2zNl0Z28H-UO",
        "colab_type": "text"
      },
      "source": [
        "#Punctuation"
      ]
    },
    {
      "cell_type": "code",
      "metadata": {
        "id": "QqUZ9WFnVa6R",
        "colab_type": "code",
        "colab": {}
      },
      "source": [
        "def punctuation(token):\n",
        "    return OPTIONAL_REGEX.format(token) if token in string.punctuation else token"
      ],
      "execution_count": 5,
      "outputs": []
    },
    {
      "cell_type": "markdown",
      "metadata": {
        "id": "Cgwg58mlIA9b",
        "colab_type": "text"
      },
      "source": [
        "#Stopword"
      ]
    },
    {
      "cell_type": "code",
      "metadata": {
        "id": "n0PLsXRmWRQg",
        "colab_type": "code",
        "colab": {}
      },
      "source": [
        "def stopword(newToken, token):\n",
        "    return OPTIONAL_REGEX.format(newToken) if token in stopwords.words('portuguese') else newToken"
      ],
      "execution_count": 6,
      "outputs": []
    },
    {
      "cell_type": "markdown",
      "metadata": {
        "id": "1eJpKbvHHqt9",
        "colab_type": "text"
      },
      "source": [
        "#Main"
      ]
    },
    {
      "cell_type": "code",
      "metadata": {
        "id": "OVvKuK_4U3im",
        "colab_type": "code",
        "colab": {}
      },
      "source": [
        "sentence = word_tokenize(INPUT.lower())\n",
        "\n",
        "tokens = []\n",
        "for token in sentence:\n",
        "    newToken = plural_reduction(token)\n",
        "    newToken = punctuation(newToken)\n",
        "    newToken = accentuation(newToken)\n",
        "    newToken = stopword(newToken, token)\n",
        "    tokens.append(newToken)\n",
        "\n",
        "regex = MULTIPLE_WHITE_SPACE_REGEX.join(tokens)\n",
        "print(regex)"
      ],
      "execution_count": null,
      "outputs": []
    }
  ]
}